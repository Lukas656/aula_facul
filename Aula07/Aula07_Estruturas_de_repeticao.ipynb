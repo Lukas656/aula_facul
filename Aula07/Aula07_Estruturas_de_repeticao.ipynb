{
  "cells": [
    {
      "cell_type": "markdown",
      "metadata": {
        "id": "wYGh8jNwBkC5"
      },
      "source": [
        "# <font size='14'>Programação de Computadores</font>\n",
        "\n",
        "<h1> Aula 06: Estruturas de repetição</h1>\n",
        "\n",
        "> Pressione as teclas <b>SHIFT</b> e <b>ENTER</b> para executar o código em uma célula ou pressione o botão Play"
      ]
    },
    {
      "cell_type": "markdown",
      "metadata": {
        "id": "-6_fQLFYE_Gd"
      },
      "source": [
        "Diferentemente de outras linguagens de programação, o for do Python itera sobre itens de uma sequência (lista ou String) na ordem que aparecem."
      ]
    },
    {
      "cell_type": "code",
      "execution_count": 1,
      "metadata": {
        "colab": {
          "base_uri": "https://localhost:8080/"
        },
        "id": "yHQqpNvOFTYF",
        "outputId": "8140374e-693f-46b5-8047-385fe673402e"
      },
      "outputs": [
        {
          "name": "stdout",
          "output_type": "stream",
          "text": [
            "gato\n",
            "cachorro\n",
            "leão\n",
            "camelo\n"
          ]
        }
      ],
      "source": [
        "#Exemplo simples do comando for\n",
        "animais = ['gato', 'cachorro', 'leão', 'camelo']\n",
        "for a in animais:\n",
        "  print(a)"
      ]
    },
    {
      "cell_type": "code",
      "execution_count": null,
      "metadata": {
        "id": "5t5Yh9kRFiJL"
      },
      "outputs": [],
      "source": [
        "sequencia = [0, 1, 2, 4, 4, 5]\n",
        "for num in sequencia:\n",
        "  print(num)"
      ]
    },
    {
      "cell_type": "markdown",
      "metadata": {
        "id": "XDD_FtDwGJeg"
      },
      "source": [
        "*   O comando **continue** pode ser usado para ignorar os comandos e executar a próxima iteração.\n",
        "*   O comando **break** permite sair (quebrar) do ciclo mais interno a qualquer momento.\n",
        "\n"
      ]
    },
    {
      "cell_type": "code",
      "execution_count": 5,
      "metadata": {
        "colab": {
          "base_uri": "https://localhost:8080/"
        },
        "id": "MGQEJf_MGjIZ",
        "outputId": "ce6772f1-a326-4ce9-ab74-7be45e37e500"
      },
      "outputs": [
        {
          "name": "stdout",
          "output_type": "stream",
          "text": [
            "1\n",
            "5\n"
          ]
        }
      ],
      "source": [
        "for num in sequencia:\n",
        "  if num%2==0:\n",
        "    continue\n",
        "  else:\n",
        "    print(num)"
      ]
    },
    {
      "cell_type": "code",
      "execution_count": 6,
      "metadata": {
        "colab": {
          "base_uri": "https://localhost:8080/"
        },
        "id": "HBXhzmKbHC-u",
        "outputId": "e4a61c9e-e6c8-4bac-fcb1-8ee12fc9ea83"
      },
      "outputs": [
        {
          "name": "stdout",
          "output_type": "stream",
          "text": [
            "gato\n"
          ]
        }
      ],
      "source": [
        "for a in animais:\n",
        "  if a == 'cachorro':\n",
        "    break\n",
        "  else:\n",
        "    print(a)"
      ]
    },
    {
      "cell_type": "markdown",
      "metadata": {
        "id": "iA9UAzcx_K_C"
      },
      "source": [
        "##Laço contado: for"
      ]
    },
    {
      "cell_type": "code",
      "execution_count": null,
      "metadata": {
        "id": "UReMx8nl_CSr"
      },
      "outputs": [],
      "source": [
        "for i in range(10):\n",
        "  print(i, end='')"
      ]
    },
    {
      "cell_type": "code",
      "execution_count": null,
      "metadata": {
        "id": "o5TOc0VwjPMN"
      },
      "outputs": [],
      "source": [
        "for i in range(3,10):\n",
        "  print(i, end='')"
      ]
    },
    {
      "cell_type": "code",
      "execution_count": null,
      "metadata": {
        "id": "EgtJYnBBjXNO"
      },
      "outputs": [],
      "source": [
        "for i in range(0, 21, 2):\n",
        "  print(i, end='')"
      ]
    },
    {
      "cell_type": "code",
      "execution_count": null,
      "metadata": {
        "id": "pcqtmiiTAkfz"
      },
      "outputs": [],
      "source": [
        "animais = ['gato', 'cachorro', 'leão', 'camelo']\n",
        "for a in animais:\n",
        "  print(a)"
      ]
    },
    {
      "cell_type": "code",
      "execution_count": null,
      "metadata": {
        "id": "jd_VwHcRAv4E"
      },
      "outputs": [],
      "source": [
        "sequencia = [0, 1, 2, 3, 4]\n",
        "for n in sequencia:\n",
        "  print(n)"
      ]
    },
    {
      "cell_type": "code",
      "execution_count": null,
      "metadata": {},
      "outputs": [],
      "source": [
        "start, end = 0, 100\n",
        "for num in range(start , end + 1):\n",
        "\n",
        "    if num % 2 == 0:\n",
        "    print(num, end = ' ')"
      ]
    },
    {
      "cell_type": "code",
      "execution_count": null,
      "metadata": {
        "id": "ELQpfmY-Acxn"
      },
      "outputs": [],
      "source": [
        "nome = 'aline'\n",
        "for letra in nome:\n",
        "  print(letra)"
      ]
    },
    {
      "cell_type": "markdown",
      "metadata": {
        "id": "4FtzYw5K_pj0"
      },
      "source": [
        "## O comando continue"
      ]
    },
    {
      "cell_type": "code",
      "execution_count": null,
      "metadata": {
        "id": "I_JHGn9c_x1u"
      },
      "outputs": [],
      "source": [
        "for i in range(10):\n",
        "  if i%2==0:\n",
        "    continue\n",
        "  print(i)"
      ]
    },
    {
      "cell_type": "markdown",
      "metadata": {
        "id": "CPiYsZdf_4hF"
      },
      "source": [
        "## O comando break"
      ]
    },
    {
      "cell_type": "code",
      "execution_count": null,
      "metadata": {
        "id": "tyqjw2yw_8S6"
      },
      "outputs": [],
      "source": [
        "for i in range(10):\n",
        "  if i > 5:\n",
        "    break\n",
        "  print(i)"
      ]
    },
    {
      "cell_type": "markdown",
      "metadata": {
        "id": "jj99S8V7wF87"
      },
      "source": [
        "# Laço condicional: while"
      ]
    },
    {
      "cell_type": "code",
      "execution_count": null,
      "metadata": {
        "id": "y1Le3cjswFb-"
      },
      "outputs": [],
      "source": [
        "contador = 0\n",
        "while True:\n",
        "  contador += 1\n",
        "  resp = input('Deseja continuar (s|n)? ')\n",
        "  if resp in 'nN':\n",
        "    break\n",
        "  \n",
        "print(f'Você contou {contador} vezes')"
      ]
    }
  ],
  "metadata": {
    "anaconda-cloud": {},
    "colab": {
      "collapsed_sections": [],
      "name": "Aula07 - Estruturas de repeticao.ipynb",
      "provenance": [],
      "toc_visible": true
    },
    "kernelspec": {
      "display_name": "Python 3",
      "language": "python",
      "name": "python3"
    },
    "language_info": {
      "codemirror_mode": {
        "name": "ipython",
        "version": 3
      },
      "file_extension": ".py",
      "mimetype": "text/x-python",
      "name": "python",
      "nbconvert_exporter": "python",
      "pygments_lexer": "ipython3",
      "version": "3.8.5"
    }
  },
  "nbformat": 4,
  "nbformat_minor": 0
}
